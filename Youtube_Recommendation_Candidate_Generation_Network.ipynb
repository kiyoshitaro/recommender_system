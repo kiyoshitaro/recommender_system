{
  "nbformat": 4,
  "nbformat_minor": 0,
  "metadata": {
    "colab": {
      "name": "Youtube_Recommendation_Candidate_Generation_Network.ipynb",
      "provenance": [],
      "collapsed_sections": []
    },
    "kernelspec": {
      "name": "python3",
      "display_name": "Python 3.6.9 64-bit ('brown': conda)",
      "metadata": {
        "interpreter": {
          "hash": "c2b3562ca01622c814e045ac16fa397e75e7e01274aecda826abe292844d75cb"
        }
      }
    },
    "accelerator": "GPU",
    "widgets": {
      "application/vnd.jupyter.widget-state+json": {
        "7137f8f8ca5c4165ac5f6fa0bf87caa2": {
          "model_module": "@jupyter-widgets/controls",
          "model_name": "HBoxModel",
          "state": {
            "_view_name": "HBoxView",
            "_dom_classes": [],
            "_model_name": "HBoxModel",
            "_view_module": "@jupyter-widgets/controls",
            "_model_module_version": "1.5.0",
            "_view_count": null,
            "_view_module_version": "1.5.0",
            "box_style": "",
            "layout": "IPY_MODEL_e4b9cde403a54e42892b5073ea4cb8d2",
            "_model_module": "@jupyter-widgets/controls",
            "children": [
              "IPY_MODEL_f4ead28484954adfb2c0158a0f19aaba",
              "IPY_MODEL_2585cf14ed3042beb70d17c0fe73544f"
            ]
          }
        },
        "e4b9cde403a54e42892b5073ea4cb8d2": {
          "model_module": "@jupyter-widgets/base",
          "model_name": "LayoutModel",
          "state": {
            "_view_name": "LayoutView",
            "grid_template_rows": null,
            "right": null,
            "justify_content": null,
            "_view_module": "@jupyter-widgets/base",
            "overflow": null,
            "_model_module_version": "1.2.0",
            "_view_count": null,
            "flex_flow": null,
            "width": null,
            "min_width": null,
            "border": null,
            "align_items": null,
            "bottom": null,
            "_model_module": "@jupyter-widgets/base",
            "top": null,
            "grid_column": null,
            "overflow_y": null,
            "overflow_x": null,
            "grid_auto_flow": null,
            "grid_area": null,
            "grid_template_columns": null,
            "flex": null,
            "_model_name": "LayoutModel",
            "justify_items": null,
            "grid_row": null,
            "max_height": null,
            "align_content": null,
            "visibility": null,
            "align_self": null,
            "height": null,
            "min_height": null,
            "padding": null,
            "grid_auto_rows": null,
            "grid_gap": null,
            "max_width": null,
            "order": null,
            "_view_module_version": "1.2.0",
            "grid_template_areas": null,
            "object_position": null,
            "object_fit": null,
            "grid_auto_columns": null,
            "margin": null,
            "display": null,
            "left": null
          }
        },
        "f4ead28484954adfb2c0158a0f19aaba": {
          "model_module": "@jupyter-widgets/controls",
          "model_name": "FloatProgressModel",
          "state": {
            "_view_name": "ProgressView",
            "style": "IPY_MODEL_c097ce7f1c7c45d6abfb137e4e65a750",
            "_dom_classes": [],
            "description": "Downloading: 100%",
            "_model_name": "FloatProgressModel",
            "bar_style": "success",
            "max": 557,
            "_view_module": "@jupyter-widgets/controls",
            "_model_module_version": "1.5.0",
            "value": 557,
            "_view_count": null,
            "_view_module_version": "1.5.0",
            "orientation": "horizontal",
            "min": 0,
            "description_tooltip": null,
            "_model_module": "@jupyter-widgets/controls",
            "layout": "IPY_MODEL_a8b419050cb641e7b1bebf68ea6cb0e0"
          }
        },
        "2585cf14ed3042beb70d17c0fe73544f": {
          "model_module": "@jupyter-widgets/controls",
          "model_name": "HTMLModel",
          "state": {
            "_view_name": "HTMLView",
            "style": "IPY_MODEL_b77959aa54ec48c8abbb4f06498c4b65",
            "_dom_classes": [],
            "description": "",
            "_model_name": "HTMLModel",
            "placeholder": "​",
            "_view_module": "@jupyter-widgets/controls",
            "_model_module_version": "1.5.0",
            "value": " 557/557 [00:00&lt;00:00, 2.41kB/s]",
            "_view_count": null,
            "_view_module_version": "1.5.0",
            "description_tooltip": null,
            "_model_module": "@jupyter-widgets/controls",
            "layout": "IPY_MODEL_8b0ef717f9454d94aff70a5e656d900f"
          }
        },
        "c097ce7f1c7c45d6abfb137e4e65a750": {
          "model_module": "@jupyter-widgets/controls",
          "model_name": "ProgressStyleModel",
          "state": {
            "_view_name": "StyleView",
            "_model_name": "ProgressStyleModel",
            "description_width": "initial",
            "_view_module": "@jupyter-widgets/base",
            "_model_module_version": "1.5.0",
            "_view_count": null,
            "_view_module_version": "1.2.0",
            "bar_color": null,
            "_model_module": "@jupyter-widgets/controls"
          }
        },
        "a8b419050cb641e7b1bebf68ea6cb0e0": {
          "model_module": "@jupyter-widgets/base",
          "model_name": "LayoutModel",
          "state": {
            "_view_name": "LayoutView",
            "grid_template_rows": null,
            "right": null,
            "justify_content": null,
            "_view_module": "@jupyter-widgets/base",
            "overflow": null,
            "_model_module_version": "1.2.0",
            "_view_count": null,
            "flex_flow": null,
            "width": null,
            "min_width": null,
            "border": null,
            "align_items": null,
            "bottom": null,
            "_model_module": "@jupyter-widgets/base",
            "top": null,
            "grid_column": null,
            "overflow_y": null,
            "overflow_x": null,
            "grid_auto_flow": null,
            "grid_area": null,
            "grid_template_columns": null,
            "flex": null,
            "_model_name": "LayoutModel",
            "justify_items": null,
            "grid_row": null,
            "max_height": null,
            "align_content": null,
            "visibility": null,
            "align_self": null,
            "height": null,
            "min_height": null,
            "padding": null,
            "grid_auto_rows": null,
            "grid_gap": null,
            "max_width": null,
            "order": null,
            "_view_module_version": "1.2.0",
            "grid_template_areas": null,
            "object_position": null,
            "object_fit": null,
            "grid_auto_columns": null,
            "margin": null,
            "display": null,
            "left": null
          }
        },
        "b77959aa54ec48c8abbb4f06498c4b65": {
          "model_module": "@jupyter-widgets/controls",
          "model_name": "DescriptionStyleModel",
          "state": {
            "_view_name": "StyleView",
            "_model_name": "DescriptionStyleModel",
            "description_width": "",
            "_view_module": "@jupyter-widgets/base",
            "_model_module_version": "1.5.0",
            "_view_count": null,
            "_view_module_version": "1.2.0",
            "_model_module": "@jupyter-widgets/controls"
          }
        },
        "8b0ef717f9454d94aff70a5e656d900f": {
          "model_module": "@jupyter-widgets/base",
          "model_name": "LayoutModel",
          "state": {
            "_view_name": "LayoutView",
            "grid_template_rows": null,
            "right": null,
            "justify_content": null,
            "_view_module": "@jupyter-widgets/base",
            "overflow": null,
            "_model_module_version": "1.2.0",
            "_view_count": null,
            "flex_flow": null,
            "width": null,
            "min_width": null,
            "border": null,
            "align_items": null,
            "bottom": null,
            "_model_module": "@jupyter-widgets/base",
            "top": null,
            "grid_column": null,
            "overflow_y": null,
            "overflow_x": null,
            "grid_auto_flow": null,
            "grid_area": null,
            "grid_template_columns": null,
            "flex": null,
            "_model_name": "LayoutModel",
            "justify_items": null,
            "grid_row": null,
            "max_height": null,
            "align_content": null,
            "visibility": null,
            "align_self": null,
            "height": null,
            "min_height": null,
            "padding": null,
            "grid_auto_rows": null,
            "grid_gap": null,
            "max_width": null,
            "order": null,
            "_view_module_version": "1.2.0",
            "grid_template_areas": null,
            "object_position": null,
            "object_fit": null,
            "grid_auto_columns": null,
            "margin": null,
            "display": null,
            "left": null
          }
        },
        "6ca95f2b010f428fa48628bab7237cad": {
          "model_module": "@jupyter-widgets/controls",
          "model_name": "HBoxModel",
          "state": {
            "_view_name": "HBoxView",
            "_dom_classes": [],
            "_model_name": "HBoxModel",
            "_view_module": "@jupyter-widgets/controls",
            "_model_module_version": "1.5.0",
            "_view_count": null,
            "_view_module_version": "1.5.0",
            "box_style": "",
            "layout": "IPY_MODEL_00c4018b30f3497bbe8d6101f46ca55b",
            "_model_module": "@jupyter-widgets/controls",
            "children": [
              "IPY_MODEL_1702dd9e3bde4ece8964e804f46c2b3b",
              "IPY_MODEL_35d8b18277c5478c895f3bcd188708d5"
            ]
          }
        },
        "00c4018b30f3497bbe8d6101f46ca55b": {
          "model_module": "@jupyter-widgets/base",
          "model_name": "LayoutModel",
          "state": {
            "_view_name": "LayoutView",
            "grid_template_rows": null,
            "right": null,
            "justify_content": null,
            "_view_module": "@jupyter-widgets/base",
            "overflow": null,
            "_model_module_version": "1.2.0",
            "_view_count": null,
            "flex_flow": null,
            "width": null,
            "min_width": null,
            "border": null,
            "align_items": null,
            "bottom": null,
            "_model_module": "@jupyter-widgets/base",
            "top": null,
            "grid_column": null,
            "overflow_y": null,
            "overflow_x": null,
            "grid_auto_flow": null,
            "grid_area": null,
            "grid_template_columns": null,
            "flex": null,
            "_model_name": "LayoutModel",
            "justify_items": null,
            "grid_row": null,
            "max_height": null,
            "align_content": null,
            "visibility": null,
            "align_self": null,
            "height": null,
            "min_height": null,
            "padding": null,
            "grid_auto_rows": null,
            "grid_gap": null,
            "max_width": null,
            "order": null,
            "_view_module_version": "1.2.0",
            "grid_template_areas": null,
            "object_position": null,
            "object_fit": null,
            "grid_auto_columns": null,
            "margin": null,
            "display": null,
            "left": null
          }
        },
        "1702dd9e3bde4ece8964e804f46c2b3b": {
          "model_module": "@jupyter-widgets/controls",
          "model_name": "FloatProgressModel",
          "state": {
            "_view_name": "ProgressView",
            "style": "IPY_MODEL_c959b7a3ed3446b9b725be2afb5c0250",
            "_dom_classes": [],
            "description": "Downloading: 100%",
            "_model_name": "FloatProgressModel",
            "bar_style": "success",
            "max": 542923308,
            "_view_module": "@jupyter-widgets/controls",
            "_model_module_version": "1.5.0",
            "value": 542923308,
            "_view_count": null,
            "_view_module_version": "1.5.0",
            "orientation": "horizontal",
            "min": 0,
            "description_tooltip": null,
            "_model_module": "@jupyter-widgets/controls",
            "layout": "IPY_MODEL_2af169af84c04421a29dbe000df41610"
          }
        },
        "35d8b18277c5478c895f3bcd188708d5": {
          "model_module": "@jupyter-widgets/controls",
          "model_name": "HTMLModel",
          "state": {
            "_view_name": "HTMLView",
            "style": "IPY_MODEL_3d6b08fc17424dc3a572edbab93effef",
            "_dom_classes": [],
            "description": "",
            "_model_name": "HTMLModel",
            "placeholder": "​",
            "_view_module": "@jupyter-widgets/controls",
            "_model_module_version": "1.5.0",
            "value": " 543M/543M [00:10&lt;00:00, 50.2MB/s]",
            "_view_count": null,
            "_view_module_version": "1.5.0",
            "description_tooltip": null,
            "_model_module": "@jupyter-widgets/controls",
            "layout": "IPY_MODEL_ddba4f3f8c844d6da0b12ab9f08206b4"
          }
        },
        "c959b7a3ed3446b9b725be2afb5c0250": {
          "model_module": "@jupyter-widgets/controls",
          "model_name": "ProgressStyleModel",
          "state": {
            "_view_name": "StyleView",
            "_model_name": "ProgressStyleModel",
            "description_width": "initial",
            "_view_module": "@jupyter-widgets/base",
            "_model_module_version": "1.5.0",
            "_view_count": null,
            "_view_module_version": "1.2.0",
            "bar_color": null,
            "_model_module": "@jupyter-widgets/controls"
          }
        },
        "2af169af84c04421a29dbe000df41610": {
          "model_module": "@jupyter-widgets/base",
          "model_name": "LayoutModel",
          "state": {
            "_view_name": "LayoutView",
            "grid_template_rows": null,
            "right": null,
            "justify_content": null,
            "_view_module": "@jupyter-widgets/base",
            "overflow": null,
            "_model_module_version": "1.2.0",
            "_view_count": null,
            "flex_flow": null,
            "width": null,
            "min_width": null,
            "border": null,
            "align_items": null,
            "bottom": null,
            "_model_module": "@jupyter-widgets/base",
            "top": null,
            "grid_column": null,
            "overflow_y": null,
            "overflow_x": null,
            "grid_auto_flow": null,
            "grid_area": null,
            "grid_template_columns": null,
            "flex": null,
            "_model_name": "LayoutModel",
            "justify_items": null,
            "grid_row": null,
            "max_height": null,
            "align_content": null,
            "visibility": null,
            "align_self": null,
            "height": null,
            "min_height": null,
            "padding": null,
            "grid_auto_rows": null,
            "grid_gap": null,
            "max_width": null,
            "order": null,
            "_view_module_version": "1.2.0",
            "grid_template_areas": null,
            "object_position": null,
            "object_fit": null,
            "grid_auto_columns": null,
            "margin": null,
            "display": null,
            "left": null
          }
        },
        "3d6b08fc17424dc3a572edbab93effef": {
          "model_module": "@jupyter-widgets/controls",
          "model_name": "DescriptionStyleModel",
          "state": {
            "_view_name": "StyleView",
            "_model_name": "DescriptionStyleModel",
            "description_width": "",
            "_view_module": "@jupyter-widgets/base",
            "_model_module_version": "1.5.0",
            "_view_count": null,
            "_view_module_version": "1.2.0",
            "_model_module": "@jupyter-widgets/controls"
          }
        },
        "ddba4f3f8c844d6da0b12ab9f08206b4": {
          "model_module": "@jupyter-widgets/base",
          "model_name": "LayoutModel",
          "state": {
            "_view_name": "LayoutView",
            "grid_template_rows": null,
            "right": null,
            "justify_content": null,
            "_view_module": "@jupyter-widgets/base",
            "overflow": null,
            "_model_module_version": "1.2.0",
            "_view_count": null,
            "flex_flow": null,
            "width": null,
            "min_width": null,
            "border": null,
            "align_items": null,
            "bottom": null,
            "_model_module": "@jupyter-widgets/base",
            "top": null,
            "grid_column": null,
            "overflow_y": null,
            "overflow_x": null,
            "grid_auto_flow": null,
            "grid_area": null,
            "grid_template_columns": null,
            "flex": null,
            "_model_name": "LayoutModel",
            "justify_items": null,
            "grid_row": null,
            "max_height": null,
            "align_content": null,
            "visibility": null,
            "align_self": null,
            "height": null,
            "min_height": null,
            "padding": null,
            "grid_auto_rows": null,
            "grid_gap": null,
            "max_width": null,
            "order": null,
            "_view_module_version": "1.2.0",
            "grid_template_areas": null,
            "object_position": null,
            "object_fit": null,
            "grid_auto_columns": null,
            "margin": null,
            "display": null,
            "left": null
          }
        },
        "c4efccbf3098496a8496d42e9e9dfb85": {
          "model_module": "@jupyter-widgets/controls",
          "model_name": "HBoxModel",
          "state": {
            "_view_name": "HBoxView",
            "_dom_classes": [],
            "_model_name": "HBoxModel",
            "_view_module": "@jupyter-widgets/controls",
            "_model_module_version": "1.5.0",
            "_view_count": null,
            "_view_module_version": "1.5.0",
            "box_style": "",
            "layout": "IPY_MODEL_e4f38693cd344b268c15fe7339a868f0",
            "_model_module": "@jupyter-widgets/controls",
            "children": [
              "IPY_MODEL_5f6f545473474b54942b3affa5e17e66",
              "IPY_MODEL_a331d92385a841fd8e3c66030cc918ab"
            ]
          }
        },
        "e4f38693cd344b268c15fe7339a868f0": {
          "model_module": "@jupyter-widgets/base",
          "model_name": "LayoutModel",
          "state": {
            "_view_name": "LayoutView",
            "grid_template_rows": null,
            "right": null,
            "justify_content": null,
            "_view_module": "@jupyter-widgets/base",
            "overflow": null,
            "_model_module_version": "1.2.0",
            "_view_count": null,
            "flex_flow": null,
            "width": null,
            "min_width": null,
            "border": null,
            "align_items": null,
            "bottom": null,
            "_model_module": "@jupyter-widgets/base",
            "top": null,
            "grid_column": null,
            "overflow_y": null,
            "overflow_x": null,
            "grid_auto_flow": null,
            "grid_area": null,
            "grid_template_columns": null,
            "flex": null,
            "_model_name": "LayoutModel",
            "justify_items": null,
            "grid_row": null,
            "max_height": null,
            "align_content": null,
            "visibility": null,
            "align_self": null,
            "height": null,
            "min_height": null,
            "padding": null,
            "grid_auto_rows": null,
            "grid_gap": null,
            "max_width": null,
            "order": null,
            "_view_module_version": "1.2.0",
            "grid_template_areas": null,
            "object_position": null,
            "object_fit": null,
            "grid_auto_columns": null,
            "margin": null,
            "display": null,
            "left": null
          }
        },
        "5f6f545473474b54942b3affa5e17e66": {
          "model_module": "@jupyter-widgets/controls",
          "model_name": "FloatProgressModel",
          "state": {
            "_view_name": "ProgressView",
            "style": "IPY_MODEL_e7f76ca2c8cd4f14b74d0599f45c6cff",
            "_dom_classes": [],
            "description": "Downloading: 100%",
            "_model_name": "FloatProgressModel",
            "bar_style": "success",
            "max": 895321,
            "_view_module": "@jupyter-widgets/controls",
            "_model_module_version": "1.5.0",
            "value": 895321,
            "_view_count": null,
            "_view_module_version": "1.5.0",
            "orientation": "horizontal",
            "min": 0,
            "description_tooltip": null,
            "_model_module": "@jupyter-widgets/controls",
            "layout": "IPY_MODEL_f524f5dd9d5340c28e88f49955d27436"
          }
        },
        "a331d92385a841fd8e3c66030cc918ab": {
          "model_module": "@jupyter-widgets/controls",
          "model_name": "HTMLModel",
          "state": {
            "_view_name": "HTMLView",
            "style": "IPY_MODEL_b3025fa726464ba19506dcf7e86deb30",
            "_dom_classes": [],
            "description": "",
            "_model_name": "HTMLModel",
            "placeholder": "​",
            "_view_module": "@jupyter-widgets/controls",
            "_model_module_version": "1.5.0",
            "value": " 895k/895k [00:00&lt;00:00, 1.54MB/s]",
            "_view_count": null,
            "_view_module_version": "1.5.0",
            "description_tooltip": null,
            "_model_module": "@jupyter-widgets/controls",
            "layout": "IPY_MODEL_ffa0a5b418ba45ab963f8f6ed4ae7bea"
          }
        },
        "e7f76ca2c8cd4f14b74d0599f45c6cff": {
          "model_module": "@jupyter-widgets/controls",
          "model_name": "ProgressStyleModel",
          "state": {
            "_view_name": "StyleView",
            "_model_name": "ProgressStyleModel",
            "description_width": "initial",
            "_view_module": "@jupyter-widgets/base",
            "_model_module_version": "1.5.0",
            "_view_count": null,
            "_view_module_version": "1.2.0",
            "bar_color": null,
            "_model_module": "@jupyter-widgets/controls"
          }
        },
        "f524f5dd9d5340c28e88f49955d27436": {
          "model_module": "@jupyter-widgets/base",
          "model_name": "LayoutModel",
          "state": {
            "_view_name": "LayoutView",
            "grid_template_rows": null,
            "right": null,
            "justify_content": null,
            "_view_module": "@jupyter-widgets/base",
            "overflow": null,
            "_model_module_version": "1.2.0",
            "_view_count": null,
            "flex_flow": null,
            "width": null,
            "min_width": null,
            "border": null,
            "align_items": null,
            "bottom": null,
            "_model_module": "@jupyter-widgets/base",
            "top": null,
            "grid_column": null,
            "overflow_y": null,
            "overflow_x": null,
            "grid_auto_flow": null,
            "grid_area": null,
            "grid_template_columns": null,
            "flex": null,
            "_model_name": "LayoutModel",
            "justify_items": null,
            "grid_row": null,
            "max_height": null,
            "align_content": null,
            "visibility": null,
            "align_self": null,
            "height": null,
            "min_height": null,
            "padding": null,
            "grid_auto_rows": null,
            "grid_gap": null,
            "max_width": null,
            "order": null,
            "_view_module_version": "1.2.0",
            "grid_template_areas": null,
            "object_position": null,
            "object_fit": null,
            "grid_auto_columns": null,
            "margin": null,
            "display": null,
            "left": null
          }
        },
        "b3025fa726464ba19506dcf7e86deb30": {
          "model_module": "@jupyter-widgets/controls",
          "model_name": "DescriptionStyleModel",
          "state": {
            "_view_name": "StyleView",
            "_model_name": "DescriptionStyleModel",
            "description_width": "",
            "_view_module": "@jupyter-widgets/base",
            "_model_module_version": "1.5.0",
            "_view_count": null,
            "_view_module_version": "1.2.0",
            "_model_module": "@jupyter-widgets/controls"
          }
        },
        "ffa0a5b418ba45ab963f8f6ed4ae7bea": {
          "model_module": "@jupyter-widgets/base",
          "model_name": "LayoutModel",
          "state": {
            "_view_name": "LayoutView",
            "grid_template_rows": null,
            "right": null,
            "justify_content": null,
            "_view_module": "@jupyter-widgets/base",
            "overflow": null,
            "_model_module_version": "1.2.0",
            "_view_count": null,
            "flex_flow": null,
            "width": null,
            "min_width": null,
            "border": null,
            "align_items": null,
            "bottom": null,
            "_model_module": "@jupyter-widgets/base",
            "top": null,
            "grid_column": null,
            "overflow_y": null,
            "overflow_x": null,
            "grid_auto_flow": null,
            "grid_area": null,
            "grid_template_columns": null,
            "flex": null,
            "_model_name": "LayoutModel",
            "justify_items": null,
            "grid_row": null,
            "max_height": null,
            "align_content": null,
            "visibility": null,
            "align_self": null,
            "height": null,
            "min_height": null,
            "padding": null,
            "grid_auto_rows": null,
            "grid_gap": null,
            "max_width": null,
            "order": null,
            "_view_module_version": "1.2.0",
            "grid_template_areas": null,
            "object_position": null,
            "object_fit": null,
            "grid_auto_columns": null,
            "margin": null,
            "display": null,
            "left": null
          }
        },
        "6c129407285e40a5aca3e30b01dd2a22": {
          "model_module": "@jupyter-widgets/controls",
          "model_name": "HBoxModel",
          "state": {
            "_view_name": "HBoxView",
            "_dom_classes": [],
            "_model_name": "HBoxModel",
            "_view_module": "@jupyter-widgets/controls",
            "_model_module_version": "1.5.0",
            "_view_count": null,
            "_view_module_version": "1.5.0",
            "box_style": "",
            "layout": "IPY_MODEL_1858bc288de1490d985e9499c2dcf481",
            "_model_module": "@jupyter-widgets/controls",
            "children": [
              "IPY_MODEL_517a706d3fc4495baa5a574a29d5c5f8",
              "IPY_MODEL_2154deadeaf44b03af98e364271f0561"
            ]
          }
        },
        "1858bc288de1490d985e9499c2dcf481": {
          "model_module": "@jupyter-widgets/base",
          "model_name": "LayoutModel",
          "state": {
            "_view_name": "LayoutView",
            "grid_template_rows": null,
            "right": null,
            "justify_content": null,
            "_view_module": "@jupyter-widgets/base",
            "overflow": null,
            "_model_module_version": "1.2.0",
            "_view_count": null,
            "flex_flow": null,
            "width": null,
            "min_width": null,
            "border": null,
            "align_items": null,
            "bottom": null,
            "_model_module": "@jupyter-widgets/base",
            "top": null,
            "grid_column": null,
            "overflow_y": null,
            "overflow_x": null,
            "grid_auto_flow": null,
            "grid_area": null,
            "grid_template_columns": null,
            "flex": null,
            "_model_name": "LayoutModel",
            "justify_items": null,
            "grid_row": null,
            "max_height": null,
            "align_content": null,
            "visibility": null,
            "align_self": null,
            "height": null,
            "min_height": null,
            "padding": null,
            "grid_auto_rows": null,
            "grid_gap": null,
            "max_width": null,
            "order": null,
            "_view_module_version": "1.2.0",
            "grid_template_areas": null,
            "object_position": null,
            "object_fit": null,
            "grid_auto_columns": null,
            "margin": null,
            "display": null,
            "left": null
          }
        },
        "517a706d3fc4495baa5a574a29d5c5f8": {
          "model_module": "@jupyter-widgets/controls",
          "model_name": "FloatProgressModel",
          "state": {
            "_view_name": "ProgressView",
            "style": "IPY_MODEL_3e442fa296cd43f6a7774797d50c18b0",
            "_dom_classes": [],
            "description": "Downloading: 100%",
            "_model_name": "FloatProgressModel",
            "bar_style": "success",
            "max": 1135173,
            "_view_module": "@jupyter-widgets/controls",
            "_model_module_version": "1.5.0",
            "value": 1135173,
            "_view_count": null,
            "_view_module_version": "1.5.0",
            "orientation": "horizontal",
            "min": 0,
            "description_tooltip": null,
            "_model_module": "@jupyter-widgets/controls",
            "layout": "IPY_MODEL_0fb02522893846d0a4e25e333d912f07"
          }
        },
        "2154deadeaf44b03af98e364271f0561": {
          "model_module": "@jupyter-widgets/controls",
          "model_name": "HTMLModel",
          "state": {
            "_view_name": "HTMLView",
            "style": "IPY_MODEL_6556a245a6c54afa8adbd36479a08f3e",
            "_dom_classes": [],
            "description": "",
            "_model_name": "HTMLModel",
            "placeholder": "​",
            "_view_module": "@jupyter-widgets/controls",
            "_model_module_version": "1.5.0",
            "value": " 1.14M/1.14M [00:00&lt;00:00, 5.84MB/s]",
            "_view_count": null,
            "_view_module_version": "1.5.0",
            "description_tooltip": null,
            "_model_module": "@jupyter-widgets/controls",
            "layout": "IPY_MODEL_f65358a607384e5eaf8ba7c1497bfdd8"
          }
        },
        "3e442fa296cd43f6a7774797d50c18b0": {
          "model_module": "@jupyter-widgets/controls",
          "model_name": "ProgressStyleModel",
          "state": {
            "_view_name": "StyleView",
            "_model_name": "ProgressStyleModel",
            "description_width": "initial",
            "_view_module": "@jupyter-widgets/base",
            "_model_module_version": "1.5.0",
            "_view_count": null,
            "_view_module_version": "1.2.0",
            "bar_color": null,
            "_model_module": "@jupyter-widgets/controls"
          }
        },
        "0fb02522893846d0a4e25e333d912f07": {
          "model_module": "@jupyter-widgets/base",
          "model_name": "LayoutModel",
          "state": {
            "_view_name": "LayoutView",
            "grid_template_rows": null,
            "right": null,
            "justify_content": null,
            "_view_module": "@jupyter-widgets/base",
            "overflow": null,
            "_model_module_version": "1.2.0",
            "_view_count": null,
            "flex_flow": null,
            "width": null,
            "min_width": null,
            "border": null,
            "align_items": null,
            "bottom": null,
            "_model_module": "@jupyter-widgets/base",
            "top": null,
            "grid_column": null,
            "overflow_y": null,
            "overflow_x": null,
            "grid_auto_flow": null,
            "grid_area": null,
            "grid_template_columns": null,
            "flex": null,
            "_model_name": "LayoutModel",
            "justify_items": null,
            "grid_row": null,
            "max_height": null,
            "align_content": null,
            "visibility": null,
            "align_self": null,
            "height": null,
            "min_height": null,
            "padding": null,
            "grid_auto_rows": null,
            "grid_gap": null,
            "max_width": null,
            "order": null,
            "_view_module_version": "1.2.0",
            "grid_template_areas": null,
            "object_position": null,
            "object_fit": null,
            "grid_auto_columns": null,
            "margin": null,
            "display": null,
            "left": null
          }
        },
        "6556a245a6c54afa8adbd36479a08f3e": {
          "model_module": "@jupyter-widgets/controls",
          "model_name": "DescriptionStyleModel",
          "state": {
            "_view_name": "StyleView",
            "_model_name": "DescriptionStyleModel",
            "description_width": "",
            "_view_module": "@jupyter-widgets/base",
            "_model_module_version": "1.5.0",
            "_view_count": null,
            "_view_module_version": "1.2.0",
            "_model_module": "@jupyter-widgets/controls"
          }
        },
        "f65358a607384e5eaf8ba7c1497bfdd8": {
          "model_module": "@jupyter-widgets/base",
          "model_name": "LayoutModel",
          "state": {
            "_view_name": "LayoutView",
            "grid_template_rows": null,
            "right": null,
            "justify_content": null,
            "_view_module": "@jupyter-widgets/base",
            "overflow": null,
            "_model_module_version": "1.2.0",
            "_view_count": null,
            "flex_flow": null,
            "width": null,
            "min_width": null,
            "border": null,
            "align_items": null,
            "bottom": null,
            "_model_module": "@jupyter-widgets/base",
            "top": null,
            "grid_column": null,
            "overflow_y": null,
            "overflow_x": null,
            "grid_auto_flow": null,
            "grid_area": null,
            "grid_template_columns": null,
            "flex": null,
            "_model_name": "LayoutModel",
            "justify_items": null,
            "grid_row": null,
            "max_height": null,
            "align_content": null,
            "visibility": null,
            "align_self": null,
            "height": null,
            "min_height": null,
            "padding": null,
            "grid_auto_rows": null,
            "grid_gap": null,
            "max_width": null,
            "order": null,
            "_view_module_version": "1.2.0",
            "grid_template_areas": null,
            "object_position": null,
            "object_fit": null,
            "grid_auto_columns": null,
            "margin": null,
            "display": null,
            "left": null
          }
        }
      }
    }
  },
  "cells": [
    {
      "cell_type": "code",
      "metadata": {
        "id": "q3TYOKQ2EtJu"
      },
      "source": [
        "import pandas as pd\n",
        "data = pd.read_csv(\"logvideo_20201013.csv\")\n"
      ],
      "execution_count": null,
      "outputs": []
    },
    {
      "cell_type": "code",
      "metadata": {
        "colab": {
          "base_uri": "https://localhost:8080/",
          "height": 349
        },
        "id": "KFLc9urIFBEa",
        "outputId": "74eedaee-bad2-492d-aa99-6d0af10e3c30"
      },
      "source": [
        "data.head(3)"
      ],
      "execution_count": null,
      "outputs": [
        {
          "output_type": "execute_result",
          "data": {
            "text/html": [
              "<div>\n",
              "<style scoped>\n",
              "    .dataframe tbody tr th:only-of-type {\n",
              "        vertical-align: middle;\n",
              "    }\n",
              "\n",
              "    .dataframe tbody tr th {\n",
              "        vertical-align: top;\n",
              "    }\n",
              "\n",
              "    .dataframe thead th {\n",
              "        text-align: right;\n",
              "    }\n",
              "</style>\n",
              "<table border=\"1\" class=\"dataframe\">\n",
              "  <thead>\n",
              "    <tr style=\"text-align: right;\">\n",
              "      <th></th>\n",
              "      <th>post_id</th>\n",
              "      <th>user_id</th>\n",
              "      <th>owner_id</th>\n",
              "      <th>event_id</th>\n",
              "      <th>timestamp</th>\n",
              "      <th>title</th>\n",
              "      <th>link</th>\n",
              "    </tr>\n",
              "  </thead>\n",
              "  <tbody>\n",
              "    <tr>\n",
              "      <th>0</th>\n",
              "      <td>770bb557c1ecf8e904b82b6d98fe781d</td>\n",
              "      <td>8c5f625a822f21f1bb61677af47e86a6</td>\n",
              "      <td>50addce2b62ccb9454129b7ee1148a87</td>\n",
              "      <td>1002</td>\n",
              "      <td>1601401792</td>\n",
              "      <td>[KPOP IN PUBLIC CHALLENGE] SuperM 슈퍼엠 ‘Jopping...</td>\n",
              "      <td>https://15245293302644799.lotuscdn.vn/12119819...</td>\n",
              "    </tr>\n",
              "    <tr>\n",
              "      <th>1</th>\n",
              "      <td>c5534e7913255504db3fd94f6ae779c8</td>\n",
              "      <td>85e766a8037584eda1113a472293e1fb</td>\n",
              "      <td>794c173fb2cfc29665b0af776a172d39</td>\n",
              "      <td>1002</td>\n",
              "      <td>1601436640</td>\n",
              "      <td>Clip người đàn ông tung cú đấm trời giáng vào ...</td>\n",
              "      <td>https://10541184629469490.lotuscdn.vn/12119696...</td>\n",
              "    </tr>\n",
              "    <tr>\n",
              "      <th>2</th>\n",
              "      <td>9cbaf2ba4b710f961ebc238eb9282729</td>\n",
              "      <td>e08d1d35b5f039e471599a2ef50e38b0</td>\n",
              "      <td>0e8614ac686b68f692530cb81b53947e</td>\n",
              "      <td>1002</td>\n",
              "      <td>1601436672</td>\n",
              "      <td>Chồng quần quật làm việc nhưng xem chừng cô vợ...</td>\n",
              "      <td>https://10538870372954177.lotuscdn.vn/12119787...</td>\n",
              "    </tr>\n",
              "  </tbody>\n",
              "</table>\n",
              "</div>"
            ],
            "text/plain": [
              "                            post_id  ...                                               link\n",
              "0  770bb557c1ecf8e904b82b6d98fe781d  ...  https://15245293302644799.lotuscdn.vn/12119819...\n",
              "1  c5534e7913255504db3fd94f6ae779c8  ...  https://10541184629469490.lotuscdn.vn/12119696...\n",
              "2  9cbaf2ba4b710f961ebc238eb9282729  ...  https://10538870372954177.lotuscdn.vn/12119787...\n",
              "\n",
              "[3 rows x 7 columns]"
            ]
          },
          "metadata": {
            "tags": []
          },
          "execution_count": 4
        }
      ]
    },
    {
      "cell_type": "code",
      "metadata": {
        "colab": {
          "base_uri": "https://localhost:8080/"
        },
        "id": "2MG9xAYuFIv-",
        "outputId": "3ccb1447-8805-4ac5-9153-c8a7664f452a"
      },
      "source": [
        "print(len(data.post_id.unique()),len(data.user_id.unique()),len(data.event_id.unique()),len(data.link.unique()))"
      ],
      "execution_count": null,
      "outputs": [
        {
          "output_type": "stream",
          "text": [
            "53959 115191 16 47261\n"
          ],
          "name": "stdout"
        }
      ]
    },
    {
      "cell_type": "code",
      "metadata": {
        "id": "xMPRyxGqFtpm"
      },
      "source": [
        "data=data.set_index(['user_id','timestamp']).sort_index()\n",
        "data =data.reset_index()"
      ],
      "execution_count": null,
      "outputs": []
    },
    {
      "cell_type": "code",
      "metadata": {
        "id": "HH_RoSFUFlV6"
      },
      "source": [
        "user_ids = data[\"user_id\"].unique().tolist()\n",
        "user2user_encoded = {x: i for i, x in enumerate(user_ids)}\n",
        "userencoded2user = {i: x for i, x in enumerate(user_ids)}\n",
        "\n",
        "post_ids = data[\"post_id\"].unique().tolist()\n",
        "post2post_encoded = {x: i for i, x in enumerate(post_ids)}\n",
        "post_encoded2post = {i: x for i, x in enumerate(post_ids)}\n",
        "\n",
        "title_ids = data[\"title\"].unique().tolist()\n",
        "title2title_encoded = pickle.load( open(\"title.pkl\", \"rb\"))\n",
        "# title2title_encoded = {x: i for i, x in enumerate(title_ids)}\n",
        "# title_encoded2title = {i: x for i, x in enumerate(title_ids)}\n",
        "\n",
        "link_ids = data[\"link\"].unique().tolist()\n",
        "\n",
        "import pickle\n",
        "link2link_encoded = pickle.load( open(\"link.pkl\", \"rb\"))\n",
        "# link2link_encoded = {x: i for i, x in enumerate(link_ids)}\n",
        "# link_encoded2link = {i: x for i, x in enumerate(link_ids)}\n",
        "\n",
        "\n",
        "\n",
        "owner_ids = data[\"owner_id\"].unique().tolist()\n",
        "owner2owner_encoded = {x: i for i, x in enumerate(owner_ids)}\n",
        "owner_encoded2owner = {i: x for i, x in enumerate(owner_ids)}\n",
        "\n",
        "\n",
        "\n",
        "event_ids = data[\"event_id\"].unique().tolist()\n",
        "event2event_encoded = {x: i for i, x in enumerate(event_ids)}\n",
        "event_encoded2event = {i: x for i, x in enumerate(event_ids)}\n",
        "\n",
        "\n"
      ],
      "execution_count": null,
      "outputs": []
    },
    {
      "cell_type": "code",
      "metadata": {
        "id": "e_A8DEtx7twf"
      },
      "source": [
        "\n",
        "import pickle\n"
      ],
      "execution_count": null,
      "outputs": []
    },
    {
      "cell_type": "code",
      "metadata": {
        "id": "6KvDB9x6ZEKy"
      },
      "source": [
        "data[\"user\"] = data[\"user_id\"].map(user2user_encoded)\n",
        "data[\"post\"] = data[\"post_id\"].map(post2post_encoded)\n",
        "data[\"title_d\"] = data[\"title\"].map(title2title_encoded)\n",
        "data[\"link_d\"] = data[\"link\"].map(link2link_encoded)\n",
        "data[\"event\"] = data[\"event_id\"].map(event2event_encoded)\n",
        "data[\"owner\"] = data[\"owner_id\"].map(owner2owner_encoded)"
      ],
      "execution_count": null,
      "outputs": []
    },
    {
      "cell_type": "code",
      "metadata": {
        "id": "07FMgLv_aQG0"
      },
      "source": [
        "post_list = data.groupby(['user'])['post'].unique().apply(list).reset_index()\n",
        "title_list = data.groupby(['user'])['title_d'].apply(list).reset_index()\n",
        "link_list = data.groupby(['user'])['link_d'].unique().apply(list).reset_index()\n",
        "event_list = data.groupby(['user'])['event'].unique().apply(list).reset_index()\n",
        "owner_list = data.groupby(['user'])['owner'].unique().apply(list).reset_index()"
      ],
      "execution_count": null,
      "outputs": []
    },
    {
      "cell_type": "code",
      "metadata": {
        "id": "GneSfCdWayz8"
      },
      "source": [
        "user_list =pd.merge(post_list,title_list, how= 'left')\n",
        "user_list = pd.merge(user_list,link_list, how='left')\n",
        "user_list = pd.merge(user_list,event_list, how='left')\n",
        "user_list = pd.merge(user_list,owner_list, how='left')\n"
      ],
      "execution_count": null,
      "outputs": []
    },
    {
      "cell_type": "code",
      "metadata": {
        "colab": {
          "base_uri": "https://localhost:8080/",
          "height": 589
        },
        "id": "Ht9l4exqbQZ2",
        "outputId": "d510de11-575d-483d-ced6-b6879097b830"
      },
      "source": [
        "user_list"
      ],
      "execution_count": null,
      "outputs": [
        {
          "output_type": "execute_result",
          "data": {
            "text/html": [
              "<div>\n",
              "<style scoped>\n",
              "    .dataframe tbody tr th:only-of-type {\n",
              "        vertical-align: middle;\n",
              "    }\n",
              "\n",
              "    .dataframe tbody tr th {\n",
              "        vertical-align: top;\n",
              "    }\n",
              "\n",
              "    .dataframe thead th {\n",
              "        text-align: right;\n",
              "    }\n",
              "</style>\n",
              "<table border=\"1\" class=\"dataframe\">\n",
              "  <thead>\n",
              "    <tr style=\"text-align: right;\">\n",
              "      <th></th>\n",
              "      <th>user</th>\n",
              "      <th>post</th>\n",
              "      <th>title_d</th>\n",
              "      <th>link_d</th>\n",
              "      <th>event</th>\n",
              "      <th>owner</th>\n",
              "    </tr>\n",
              "  </thead>\n",
              "  <tbody>\n",
              "    <tr>\n",
              "      <th>0</th>\n",
              "      <td>0</td>\n",
              "      <td>[0, 1, 2, 3, 4, 5, 6, 7]</td>\n",
              "      <td>[[0.35382825, 0.10302093, 0.12986146, -0.15385...</td>\n",
              "      <td>[0, 1, 2, 3, 4, 5, 6, 7]</td>\n",
              "      <td>[0, 1, 2, 3, 4, 5, 6, 7]</td>\n",
              "      <td>[0, 1, 2, 3, 4, 5]</td>\n",
              "    </tr>\n",
              "    <tr>\n",
              "      <th>1</th>\n",
              "      <td>1</td>\n",
              "      <td>[8, 9, 10, 11, 12, 13]</td>\n",
              "      <td>[[0.219761, 0.08795502, 0.22426175, -0.4454892...</td>\n",
              "      <td>[8, 9, 10, 11, 12, 13]</td>\n",
              "      <td>[8, 9, 10, 11, 12, 13, 14]</td>\n",
              "      <td>[6, 7, 8, 2, 9]</td>\n",
              "    </tr>\n",
              "    <tr>\n",
              "      <th>2</th>\n",
              "      <td>2</td>\n",
              "      <td>[14, 15, 16, 17, 18, 19, 20, 21, 22, 23, 24, 2...</td>\n",
              "      <td>[[0.5062839, 0.13520415, 0.15922517, -0.323921...</td>\n",
              "      <td>[14, 15, 16, 17, 18, 19, 20, 21, 22, 23, 24, 2...</td>\n",
              "      <td>[7, 0, 1]</td>\n",
              "      <td>[6, 8, 10, 11, 12, 13, 14, 15, 16, 2, 17, 18]</td>\n",
              "    </tr>\n",
              "    <tr>\n",
              "      <th>3</th>\n",
              "      <td>3</td>\n",
              "      <td>[29]</td>\n",
              "      <td>[[0.344427, 0.12479894, 0.16482629, -0.1894373...</td>\n",
              "      <td>[29]</td>\n",
              "      <td>[0]</td>\n",
              "      <td>[2]</td>\n",
              "    </tr>\n",
              "    <tr>\n",
              "      <th>4</th>\n",
              "      <td>4</td>\n",
              "      <td>[30, 31, 32, 33, 34, 35, 36, 37, 38, 39, 40]</td>\n",
              "      <td>[[0.3063534, -0.0009813827, 0.050540518, -0.25...</td>\n",
              "      <td>[30, 31, 32, 33, 34, 35, 36, 37, 38, 39, 40]</td>\n",
              "      <td>[0, 1, 2, 3, 4, 5]</td>\n",
              "      <td>[6, 7, 19, 20, 21, 22, 23, 24, 2]</td>\n",
              "    </tr>\n",
              "    <tr>\n",
              "      <th>...</th>\n",
              "      <td>...</td>\n",
              "      <td>...</td>\n",
              "      <td>...</td>\n",
              "      <td>...</td>\n",
              "      <td>...</td>\n",
              "      <td>...</td>\n",
              "    </tr>\n",
              "    <tr>\n",
              "      <th>115186</th>\n",
              "      <td>115186</td>\n",
              "      <td>[255, 10]</td>\n",
              "      <td>[[0.48566332, -0.023146935, 0.20537437, 0.0839...</td>\n",
              "      <td>[254, 10]</td>\n",
              "      <td>[2, 0]</td>\n",
              "      <td>[77, 8]</td>\n",
              "    </tr>\n",
              "    <tr>\n",
              "      <th>115187</th>\n",
              "      <td>115187</td>\n",
              "      <td>[68, 9329]</td>\n",
              "      <td>[[0.37781498, 0.049701583, -0.049504697, -0.24...</td>\n",
              "      <td>[68, 3624]</td>\n",
              "      <td>[7, 0, 1]</td>\n",
              "      <td>[19, 42]</td>\n",
              "    </tr>\n",
              "    <tr>\n",
              "      <th>115188</th>\n",
              "      <td>115188</td>\n",
              "      <td>[71, 232, 2]</td>\n",
              "      <td>[[0.3248977, 0.060234167, 0.014850054, -0.3029...</td>\n",
              "      <td>[71, 231, 2]</td>\n",
              "      <td>[0, 1, 2, 3, 4, 7, 5]</td>\n",
              "      <td>[6, 0]</td>\n",
              "    </tr>\n",
              "    <tr>\n",
              "      <th>115189</th>\n",
              "      <td>115189</td>\n",
              "      <td>[48, 158, 20, 556, 15]</td>\n",
              "      <td>[[0.35064602, -0.035899516, 0.078647144, -0.23...</td>\n",
              "      <td>[48, 157, 20, 551, 15]</td>\n",
              "      <td>[7, 0, 2]</td>\n",
              "      <td>[20, 0, 11, 27, 8]</td>\n",
              "    </tr>\n",
              "    <tr>\n",
              "      <th>115190</th>\n",
              "      <td>115190</td>\n",
              "      <td>[83, 12256, 27132, 531, 140, 8439, 8763]</td>\n",
              "      <td>[[0.10144197, 0.08474168, 0.17451489, -0.16804...</td>\n",
              "      <td>[83, 11352, 24227, 526, 139, 7948, 8251]</td>\n",
              "      <td>[7, 0]</td>\n",
              "      <td>[0, 671, 26, 19, 3, 18, 71]</td>\n",
              "    </tr>\n",
              "  </tbody>\n",
              "</table>\n",
              "<p>115191 rows × 6 columns</p>\n",
              "</div>"
            ],
            "text/plain": [
              "          user  ...                                          owner\n",
              "0            0  ...                             [0, 1, 2, 3, 4, 5]\n",
              "1            1  ...                                [6, 7, 8, 2, 9]\n",
              "2            2  ...  [6, 8, 10, 11, 12, 13, 14, 15, 16, 2, 17, 18]\n",
              "3            3  ...                                            [2]\n",
              "4            4  ...              [6, 7, 19, 20, 21, 22, 23, 24, 2]\n",
              "...        ...  ...                                            ...\n",
              "115186  115186  ...                                        [77, 8]\n",
              "115187  115187  ...                                       [19, 42]\n",
              "115188  115188  ...                                         [6, 0]\n",
              "115189  115189  ...                             [20, 0, 11, 27, 8]\n",
              "115190  115190  ...                    [0, 671, 26, 19, 3, 18, 71]\n",
              "\n",
              "[115191 rows x 6 columns]"
            ]
          },
          "metadata": {
            "tags": []
          },
          "execution_count": 83
        }
      ]
    },
    {
      "cell_type": "code",
      "metadata": {
        "id": "th27xLk1bRff"
      },
      "source": [
        "user_list['predict_labels'] = user_list['post'].apply(lambda x: (x[-1]))\n",
        "user_list['post']=user_list['post'].apply(lambda x: (x[:-1]))\n",
        "desire_row = [i for i in range(len(user_list.index)) if len(user_list.post[i]) > 0 ]\n",
        "user_list = user_list.iloc[desire_row]\n",
        "user_list = user_list.reset_index()"
      ],
      "execution_count": null,
      "outputs": []
    },
    {
      "cell_type": "code",
      "metadata": {
        "id": "VdG3MLBpc6LT"
      },
      "source": [
        "user_list_train=user_list[(user_list.index >= 1)&\n",
        "                                  (user_list.index <= 57600)]"
      ],
      "execution_count": null,
      "outputs": []
    },
    {
      "cell_type": "code",
      "metadata": {
        "colab": {
          "base_uri": "https://localhost:8080/"
        },
        "id": "1dJSHFz_dQs5",
        "outputId": "2a642ffa-2f3b-4d3d-942c-0b31fb82e58e"
      },
      "source": [
        "user_list_train.shape"
      ],
      "execution_count": null,
      "outputs": [
        {
          "output_type": "execute_result",
          "data": {
            "text/plain": [
              "(57600, 8)"
            ]
          },
          "metadata": {
            "tags": []
          },
          "execution_count": 18
        }
      ]
    },
    {
      "cell_type": "code",
      "metadata": {
        "id": "hYVlni7gd1FV"
      },
      "source": [
        "\n",
        "EMBEDDING_DIMS = 16\n",
        "DENSE_UNITS = 64\n",
        "DROPOUT_PCT = 0.0\n",
        "ALPHA = 0.0\n",
        "NUM_CLASSES=data[\"post\"].max()+2\n",
        "#NUM_CLASSES=53960\n",
        "\n",
        "\n",
        "LEARNING_RATE = 0.003 "
      ],
      "execution_count": null,
      "outputs": []
    },
    {
      "cell_type": "code",
      "metadata": {
        "id": "fbLY7kFkdXYv"
      },
      "source": [
        "import tensorflow as tf\n",
        "\n",
        "class MaskedEmbeddingsAggregatorLayer(tf.keras.layers.Layer):\n",
        "    def __init__(self, agg_mode='sum', **kwargs):\n",
        "        super(MaskedEmbeddingsAggregatorLayer, self).__init__(**kwargs)\n",
        "\n",
        "        if agg_mode not in ['sum', 'mean']:\n",
        "            raise NotImplementedError('mode {} not implemented!'.format(agg_mode))\n",
        "        self.agg_mode = agg_mode\n",
        "    \n",
        "    @tf.function\n",
        "    def call(self, inputs, mask=None):\n",
        "        masked_embeddings = tf.ragged.boolean_mask(inputs, mask)\n",
        "        if self.agg_mode == 'sum':\n",
        "            aggregated =  tf.reduce_sum(masked_embeddings, axis=1)\n",
        "        elif self.agg_mode == 'mean':\n",
        "            aggregated = tf.reduce_mean(masked_embeddings, axis=1)\n",
        "        \n",
        "        return aggregated\n",
        "    \n",
        "    def get_config(self):\n",
        "        # this is used when loading a saved model that uses a custom layer\n",
        "        return {'agg_mode': self.agg_mode}\n",
        "\n",
        "class L2NormLayer(tf.keras.layers.Layer):\n",
        "    def __init__(self, **kwargs):\n",
        "        super(L2NormLayer, self).__init__(**kwargs)\n",
        "    \n",
        "    @tf.function\n",
        "    def call(self, inputs, mask=None):\n",
        "        if mask is not None:\n",
        "            inputs = tf.ragged.boolean_mask(inputs, mask).to_tensor()\n",
        "        return tf.math.l2_normalize(inputs, axis=-1)\n",
        "\n",
        "    def compute_mask(self, inputs, mask):\n",
        "        return mask\n",
        "    "
      ],
      "execution_count": null,
      "outputs": []
    },
    {
      "cell_type": "code",
      "metadata": {
        "id": "xdtro79Qdbnv"
      },
      "source": [
        "#---inputs\n",
        "import tensorflow as tf\n",
        "import datetime\n",
        "import os\n",
        "input_title = tf.keras.Input(shape=(None, ), name='title')\n",
        "input_post = tf.keras.layers.Input(shape=(None,), name='post')\n",
        "input_link = tf.keras.layers.Input(shape=(None,), name='link')\n",
        "input_owner = tf.keras.Input(shape=(None, ), name='owner')\n",
        "input_event = tf.keras.Input(shape=(None, ), name='event')\n",
        "\n",
        "\n",
        "#--- layers\n",
        "features_embedding_layer = tf.keras.layers.Embedding(input_dim=NUM_CLASSES, output_dim=EMBEDDING_DIMS, \n",
        "                                            mask_zero=True, trainable=True, name='features_embeddings')\n",
        "labels_embedding_layer = tf.keras.layers.Embedding(input_dim=NUM_CLASSES, output_dim=EMBEDDING_DIMS, \n",
        "                                            mask_zero=True, trainable=True, name='labels_embeddings')\n",
        "\n",
        "avg_embeddings = MaskedEmbeddingsAggregatorLayer(agg_mode='mean', name='aggregate_embeddings')\n",
        "\n",
        "dense_1 = tf.keras.layers.Dense(units=DENSE_UNITS, name='dense_1')\n",
        "dense_2 = tf.keras.layers.Dense(units=DENSE_UNITS, name='dense_2')\n",
        "dense_3 = tf.keras.layers.Dense(units=DENSE_UNITS, name='dense_3')\n",
        "l2_norm_1 = L2NormLayer(name='l2_norm_1')\n",
        "\n",
        "dense_output = tf.keras.layers.Dense(NUM_CLASSES, name='dense_output')\n",
        "#dense_output = tf.keras.layers.Dense(NUM_CLASSES, activation=tf.nn.softmax, name='dense_output')\n"
      ],
      "execution_count": null,
      "outputs": []
    },
    {
      "cell_type": "code",
      "metadata": {
        "colab": {
          "base_uri": "https://localhost:8080/"
        },
        "id": "BgQuZ-c3fyAM",
        "outputId": "0dcb1a05-646c-4338-f5da-21a8a0672b9f"
      },
      "source": [
        "input_title = tf.keras.Input(shape=(None, ), name='title')\n",
        "features_embedding_layer(input_title)"
      ],
      "execution_count": null,
      "outputs": [
        {
          "output_type": "execute_result",
          "data": {
            "text/plain": [
              "<tf.Tensor 'features_embeddings/embedding_lookup/Identity_1:0' shape=(None, None, 16) dtype=float32>"
            ]
          },
          "metadata": {
            "tags": []
          },
          "execution_count": 36
        }
      ]
    },
    {
      "cell_type": "code",
      "metadata": {
        "colab": {
          "base_uri": "https://localhost:8080/"
        },
        "id": "M64OQm07WvoQ",
        "outputId": "b5e448bc-5ea0-4522-9a21-03d23786fd03"
      },
      "source": [
        "l2_norm_1(features_embedding_layer(input_title))"
      ],
      "execution_count": null,
      "outputs": [
        {
          "output_type": "execute_result",
          "data": {
            "text/plain": [
              "<tf.Tensor 'l2_norm_1/PartitionedCall_1:0' shape=(None, None, 16) dtype=float32>"
            ]
          },
          "metadata": {
            "tags": []
          },
          "execution_count": 38
        }
      ]
    },
    {
      "cell_type": "code",
      "metadata": {
        "colab": {
          "base_uri": "https://localhost:8080/"
        },
        "id": "AXToRNl0W-Hh",
        "outputId": "6aabb9af-6c3f-4e7f-94a0-fe7021915255"
      },
      "source": [
        "avg_embeddings(l2_norm_1(features_embedding_layer(input_title)))"
      ],
      "execution_count": null,
      "outputs": [
        {
          "output_type": "execute_result",
          "data": {
            "text/plain": [
              "<tf.Tensor 'aggregate_embeddings/PartitionedCall:0' shape=(None, 16) dtype=float32>"
            ]
          },
          "metadata": {
            "tags": []
          },
          "execution_count": 39
        }
      ]
    },
    {
      "cell_type": "code",
      "metadata": {
        "colab": {
          "base_uri": "https://localhost:8080/"
        },
        "id": "Mpi6GSEYhKK0",
        "outputId": "a9639f34-4764-494f-b77b-32cedce7f7d0"
      },
      "source": [
        "input_title"
      ],
      "execution_count": null,
      "outputs": [
        {
          "output_type": "execute_result",
          "data": {
            "text/plain": [
              "<tf.Tensor 'title_5:0' shape=(None, None) dtype=float32>"
            ]
          },
          "metadata": {
            "tags": []
          },
          "execution_count": 37
        }
      ]
    },
    {
      "cell_type": "code",
      "metadata": {
        "id": "39M_F_eydyI1"
      },
      "source": [
        "\n",
        "#--- features\n",
        "\n",
        "features_title_embeddings = features_embedding_layer(input_title)\n",
        "l2_norm_title = l2_norm_1(features_title_embeddings)\n",
        "avg_title = avg_embeddings(l2_norm_title)\n",
        "#avg_title = tf.reduce_mean(l2_norm_title, axis=1)\n",
        "\n",
        "features_event_embeddings = features_embedding_layer(input_event)\n",
        "l2_norm_event = l2_norm_1(features_event_embeddings)\n",
        "avg_event = avg_embeddings(l2_norm_event)\n",
        "\n",
        "labels_post_embeddings = labels_embedding_layer(input_post)\n",
        "l2_norm_post = l2_norm_1(labels_post_embeddings)\n",
        "avg_post = avg_embeddings(l2_norm_post)\n",
        "\n",
        "features_owner_embeddings = features_embedding_layer(input_owner)\n",
        "l2_norm_owner = l2_norm_1(features_owner_embeddings)\n",
        "avg_owner = avg_embeddings(l2_norm_owner)\n",
        "\n",
        "labels_link_embeddings = labels_embedding_layer(input_link)\n",
        "l2_norm_link = l2_norm_1(labels_link_embeddings)\n",
        "avg_link = avg_embeddings(l2_norm_link)\n",
        "\n",
        "\n",
        "\n",
        "concat_inputs = tf.keras.layers.Concatenate(axis=1)([avg_title,\n",
        "                                                     avg_event,\n",
        "                                                     avg_post,\n",
        "                                                     avg_owner,\n",
        "                                                     avg_link\n",
        "                                                     ])\n",
        "# Dense Layers\n",
        "\n",
        "dense_1_features = dense_1(concat_inputs)\n",
        "dense_1_relu = tf.keras.layers.ReLU(name='dense_1_relu')(dense_1_features)\n",
        "dense_1_batch_norm = tf.keras.layers.BatchNormalization(name='dense_1_batch_norm')(dense_1_relu)\n",
        "\n",
        "dense_2_features = dense_2(dense_1_relu)\n",
        "dense_2_relu = tf.keras.layers.ReLU(name='dense_2_relu')(dense_2_features)\n",
        "#dense_2_batch_norm = tf.keras.layers.BatchNormalization(name='dense_2_batch_norm')(dense_2_relu)\n",
        "\n",
        "dense_3_features = dense_3(dense_2_relu)\n",
        "#dense_3_relu = tf.keras.layers.ReLU(name='dense_3_relu')(dense_3_features)\n",
        "#dense_3_batch_norm = tf.keras.layers.BatchNormalization(name='dense_3_batch_norm')(dense_3_relu)\n",
        "#dense_3_batch_norm = tf.keras.layers.BatchNormalization(name='dense_3_batch_norm')(dense_3_relu)\n",
        "outputs = tf.keras.layers.Softmax()(dense_output(dense_3_features))\n",
        "\n",
        "#Optimizer\n",
        "optimiser = tf.keras.optimizers.Adam(learning_rate=LEARNING_RATE)\n",
        "\n",
        "#--- prep model\n",
        "model = tf.keras.models.Model(\n",
        "    inputs=[input_title, input_post, \n",
        "            input_link,\n",
        "            input_owner\n",
        "            ,input_event\n",
        "            ],\n",
        "    outputs=[outputs]\n",
        ")\n",
        "#logdir = os.path.join(\"logs\", datetime.datetime.now().strftime(\"%Y%m%d-%H%M%S\"))\n",
        "#tensorboard_callback = tf.keras.callbacks.TensorBoard(logdir, histogram_freq=1)\n",
        "model.compile(optimizer=optimiser, loss='sparse_categorical_crossentropy')"
      ],
      "execution_count": null,
      "outputs": []
    },
    {
      "cell_type": "code",
      "metadata": {
        "colab": {
          "base_uri": "https://localhost:8080/",
          "height": 1000
        },
        "id": "NLkp0ZJSfAVh",
        "outputId": "b53a6a18-efc8-4918-a875-ead5040dd481"
      },
      "source": [
        "tf.keras.utils.plot_model(model, show_shapes=True, show_layer_names=True,dpi=96)"
      ],
      "execution_count": null,
      "outputs": [
        {
          "output_type": "execute_result",
          "data": {
            "image/png": "[encoded data removed]",
            "text/plain": [
              "<IPython.core.display.Image object>"
            ]
          },
          "metadata": {
            "tags": []
          },
          "execution_count": 23
        }
      ]
    },
    {
      "cell_type": "code",
      "metadata": {
        "colab": {
          "base_uri": "https://localhost:8080/"
        },
        "id": "qvhyurdGfFXy",
        "outputId": "1aea34a4-86e6-4268-e22c-4a2d7a16c155"
      },
      "source": [
        "model.fit([tf.keras.preprocessing.sequence.pad_sequences(user_list_train['title_d']),\n",
        "           tf.keras.preprocessing.sequence.pad_sequences(user_list_train['post']),\n",
        "           tf.keras.preprocessing.sequence.pad_sequences(user_list_train['link_d']),\n",
        "           tf.keras.preprocessing.sequence.pad_sequences(user_list_train['owner'])\n",
        "           ,\n",
        "            tf.keras.preprocessing.sequence.pad_sequences(user_list_train['event'])\n",
        "           ],user_list_train['predict_labels'].values,\n",
        "           steps_per_epoch=100, epochs=30,verbose=1)"
      ],
      "execution_count": null,
      "outputs": [
        {
          "output_type": "stream",
          "text": [
            "Epoch 1/30\n",
            "100/100 [==============================] - 36s 363ms/step - loss: 9.0576\n",
            "Epoch 2/30\n",
            "100/100 [==============================] - 36s 360ms/step - loss: 7.9138\n",
            "Epoch 3/30\n",
            "100/100 [==============================] - 36s 360ms/step - loss: 7.8564\n",
            "Epoch 4/30\n",
            "100/100 [==============================] - 36s 361ms/step - loss: 7.8407\n",
            "Epoch 5/30\n",
            "100/100 [==============================] - 36s 357ms/step - loss: 7.8319\n",
            "Epoch 6/30\n",
            "100/100 [==============================] - 36s 361ms/step - loss: 7.8267\n",
            "Epoch 7/30\n",
            "100/100 [==============================] - 36s 363ms/step - loss: 7.8243\n",
            "Epoch 8/30\n",
            "100/100 [==============================] - 36s 362ms/step - loss: 7.8196\n",
            "Epoch 9/30\n",
            "100/100 [==============================] - 36s 361ms/step - loss: 7.8172\n",
            "Epoch 10/30\n",
            "100/100 [==============================] - 36s 363ms/step - loss: 7.8150\n",
            "Epoch 11/30\n",
            "100/100 [==============================] - 36s 356ms/step - loss: 7.8128\n",
            "Epoch 12/30\n",
            "100/100 [==============================] - 35s 354ms/step - loss: 7.8115\n",
            "Epoch 13/30\n",
            "100/100 [==============================] - 36s 356ms/step - loss: 7.8088\n",
            "Epoch 14/30\n",
            "100/100 [==============================] - 35s 353ms/step - loss: 7.8081\n",
            "Epoch 15/30\n",
            "100/100 [==============================] - 36s 358ms/step - loss: 7.8054\n",
            "Epoch 16/30\n",
            "100/100 [==============================] - 36s 358ms/step - loss: 7.8041\n",
            "Epoch 17/30\n",
            "100/100 [==============================] - 36s 358ms/step - loss: 7.8035\n",
            "Epoch 18/30\n",
            "100/100 [==============================] - 36s 355ms/step - loss: 7.8019\n",
            "Epoch 19/30\n",
            "100/100 [==============================] - 36s 357ms/step - loss: 7.8013\n",
            "Epoch 20/30\n",
            "100/100 [==============================] - 36s 358ms/step - loss: 7.7997\n",
            "Epoch 21/30\n",
            "100/100 [==============================] - 36s 360ms/step - loss: 7.7991\n",
            "Epoch 22/30\n",
            "100/100 [==============================] - 36s 360ms/step - loss: 7.7976\n",
            "Epoch 23/30\n",
            "100/100 [==============================] - 36s 358ms/step - loss: 7.7968\n",
            "Epoch 24/30\n",
            "100/100 [==============================] - 36s 357ms/step - loss: 7.7959\n",
            "Epoch 25/30\n",
            "100/100 [==============================] - 36s 357ms/step - loss: 7.7954\n",
            "Epoch 26/30\n",
            "100/100 [==============================] - 36s 360ms/step - loss: 7.7956\n",
            "Epoch 27/30\n",
            "100/100 [==============================] - 36s 358ms/step - loss: 7.7947\n",
            "Epoch 28/30\n",
            "100/100 [==============================] - 36s 359ms/step - loss: 7.7938\n",
            "Epoch 29/30\n",
            "100/100 [==============================] - 36s 359ms/step - loss: 7.7924\n",
            "Epoch 30/30\n",
            "100/100 [==============================] - 36s 359ms/step - loss: 7.7918\n"
          ],
          "name": "stdout"
        },
        {
          "output_type": "execute_result",
          "data": {
            "text/plain": [
              "<tensorflow.python.keras.callbacks.History at 0x7fe490252518>"
            ]
          },
          "metadata": {
            "tags": []
          },
          "execution_count": 24
        }
      ]
    },
    {
      "cell_type": "code",
      "metadata": {
        "id": "wONMGNE9fc7E"
      },
      "source": [
        "user_list_test=user_list[user_list.index>57600]"
      ],
      "execution_count": null,
      "outputs": []
    },
    {
      "cell_type": "code",
      "metadata": {
        "colab": {
          "base_uri": "https://localhost:8080/"
        },
        "id": "4BWa0aKozDnz",
        "outputId": "eface8cd-47f2-4106-8bd9-dddcb1d340f7"
      },
      "source": [
        "model.save('./model')\n"
      ],
      "execution_count": null,
      "outputs": [
        {
          "output_type": "stream",
          "text": [
            "WARNING:tensorflow:From /usr/local/lib/python3.6/dist-packages/tensorflow/python/training/tracking/tracking.py:111: Model.state_updates (from tensorflow.python.keras.engine.training) is deprecated and will be removed in a future version.\n",
            "Instructions for updating:\n",
            "This property should not be used in TensorFlow 2.0, as updates are applied automatically.\n",
            "WARNING:tensorflow:From /usr/local/lib/python3.6/dist-packages/tensorflow/python/training/tracking/tracking.py:111: Layer.updates (from tensorflow.python.keras.engine.base_layer) is deprecated and will be removed in a future version.\n",
            "Instructions for updating:\n",
            "This property should not be used in TensorFlow 2.0, as updates are applied automatically.\n",
            "INFO:tensorflow:Assets written to: ./model/assets\n"
          ],
          "name": "stdout"
        }
      ]
    },
    {
      "cell_type": "code",
      "metadata": {
        "id": "faFK60s2q2T_"
      },
      "source": [
        "\n",
        "predict =model.predict([tf.keras.preprocessing.sequence.pad_sequences(user_list_test['title_d']),\n",
        "           tf.keras.preprocessing.sequence.pad_sequences(user_list_test['post']),\n",
        "           tf.keras.preprocessing.sequence.pad_sequences(user_list_test['link_d']),\n",
        "           tf.keras.preprocessing.sequence.pad_sequences(user_list_test['owner'])\n",
        "           ,\n",
        "            tf.keras.preprocessing.sequence.pad_sequences(user_list_test['event'])])\n"
      ],
      "execution_count": null,
      "outputs": []
    },
    {
      "cell_type": "code",
      "metadata": {
        "id": "ydG4r1XZrGfb"
      },
      "source": [
        "import numpy as np\n",
        "predictions = np.array([np.argmax(a) for a in predict])"
      ],
      "execution_count": null,
      "outputs": []
    },
    {
      "cell_type": "code",
      "metadata": {
        "colab": {
          "base_uri": "https://localhost:8080/"
        },
        "id": "v16BocM7rH9h",
        "outputId": "1d29f68f-ce98-4ad6-f866-e9158e2be049"
      },
      "source": [
        "user_list_test['predicted_label'] = predictions"
      ],
      "execution_count": null,
      "outputs": [
        {
          "output_type": "stream",
          "text": [
            "/usr/local/lib/python3.6/dist-packages/ipykernel_launcher.py:1: SettingWithCopyWarning: \n",
            "A value is trying to be set on a copy of a slice from a DataFrame.\n",
            "Try using .loc[row_indexer,col_indexer] = value instead\n",
            "\n",
            "See the caveats in the documentation: https://pandas.pydata.org/pandas-docs/stable/user_guide/indexing.html#returning-a-view-versus-a-copy\n",
            "  \"\"\"Entry point for launching an IPython kernel.\n"
          ],
          "name": "stderr"
        }
      ]
    },
    {
      "cell_type": "code",
      "metadata": {
        "colab": {
          "base_uri": "https://localhost:8080/"
        },
        "id": "J07rd00LrNIP",
        "outputId": "f040ef24-cef3-4177-aa65-372ba8cd599a"
      },
      "source": [
        "tf.nn.top_k(\n",
        "    predict,\n",
        "    k=20,\n",
        "    sorted=True,\n",
        "    name=None\n",
        ")"
      ],
      "execution_count": null,
      "outputs": [
        {
          "output_type": "execute_result",
          "data": {
            "text/plain": [
              "TopKV2(values=<tf.Tensor: shape=(14766, 20), dtype=float32, numpy=\n",
              "array([[0.01841334, 0.01655146, 0.01577927, ..., 0.00619727, 0.00588295,\n",
              "        0.00584948],\n",
              "       [0.01841334, 0.01655146, 0.01577927, ..., 0.00619727, 0.00588295,\n",
              "        0.00584948],\n",
              "       [0.01841334, 0.01655146, 0.01577927, ..., 0.00619727, 0.00588295,\n",
              "        0.00584948],\n",
              "       ...,\n",
              "       [0.01841334, 0.01655146, 0.01577927, ..., 0.00619727, 0.00588295,\n",
              "        0.00584948],\n",
              "       [0.01841334, 0.01655146, 0.01577927, ..., 0.00619727, 0.00588295,\n",
              "        0.00584948],\n",
              "       [0.01841334, 0.01655146, 0.01577927, ..., 0.00619727, 0.00588295,\n",
              "        0.00584948]], dtype=float32)>, indices=<tf.Tensor: shape=(14766, 20), dtype=int32, numpy=\n",
              "array([[  7,  41, 143, ..., 709, 198,  68],\n",
              "       [  7,  41, 143, ..., 709, 198,  68],\n",
              "       [  7,  41, 143, ..., 709, 198,  68],\n",
              "       ...,\n",
              "       [  7,  41, 143, ..., 709, 198,  68],\n",
              "       [  7,  41, 143, ..., 709, 198,  68],\n",
              "       [  7,  41, 143, ..., 709, 198,  68]], dtype=int32)>)"
            ]
          },
          "metadata": {
            "tags": []
          },
          "execution_count": 36
        }
      ]
    },
    {
      "cell_type": "code",
      "metadata": {
        "colab": {
          "base_uri": "https://localhost:8080/"
        },
        "id": "NzNdpH5nvcXm",
        "outputId": "048e904a-3c5c-4b2e-be40-16bbf5686628"
      },
      "source": [
        "predict.shape"
      ],
      "execution_count": null,
      "outputs": [
        {
          "output_type": "execute_result",
          "data": {
            "text/plain": [
              "(14766, 53960)"
            ]
          },
          "metadata": {
            "tags": []
          },
          "execution_count": 45
        }
      ]
    },
    {
      "cell_type": "code",
      "metadata": {
        "colab": {
          "base_uri": "https://localhost:8080/"
        },
        "id": "UUhjz7hx5jFR",
        "outputId": "be1c6498-9552-4c1b-d520-9f0f34999ede"
      },
      "source": [
        "features_embedding_layer.get_weights()[0]"
      ],
      "execution_count": null,
      "outputs": [
        {
          "output_type": "execute_result",
          "data": {
            "text/plain": [
              "array([[-0.0354876 ,  0.04980022, -0.01526859, ...,  0.03380087,\n",
              "        -0.0034585 , -0.03214854],\n",
              "       [        nan,         nan,         nan, ...,         nan,\n",
              "                nan,         nan],\n",
              "       [        nan,         nan,         nan, ...,         nan,\n",
              "                nan,         nan],\n",
              "       ...,\n",
              "       [ 0.00264645,  0.01601419, -0.03498159, ...,  0.00932652,\n",
              "         0.02638849, -0.01251247],\n",
              "       [ 0.00771867,  0.03992322,  0.01093857, ...,  0.03665196,\n",
              "         0.0420526 ,  0.03571228],\n",
              "       [ 0.01108722, -0.02315505, -0.01517798, ..., -0.01094431,\n",
              "         0.01622495,  0.00342426]], dtype=float32)"
            ]
          },
          "metadata": {
            "tags": []
          },
          "execution_count": 37
        }
      ]
    },
    {
      "cell_type": "code",
      "metadata": {
        "colab": {
          "base_uri": "https://localhost:8080/"
        },
        "id": "y49v37xZ5eRK",
        "outputId": "0b325a11-98fd-435d-c27a-cee56527149e"
      },
      "source": [
        "dense_output.get_weights()[0].transpose()"
      ],
      "execution_count": null,
      "outputs": [
        {
          "output_type": "execute_result",
          "data": {
            "text/plain": [
              "array([[ 0.19646135, -0.20005512,  0.20962179, ...,  0.18949145,\n",
              "        -0.21450858,  0.20756754],\n",
              "       [-0.55546284,  0.57903045, -0.6041336 , ..., -0.47148392,\n",
              "         0.63092846, -0.5846    ],\n",
              "       [ 0.33453137, -0.3389936 ,  0.33215496, ...,  0.30778083,\n",
              "        -0.36672693,  0.3378657 ],\n",
              "       ...,\n",
              "       [-0.5592768 ,  0.5853029 , -0.60694766, ..., -0.45537406,\n",
              "         0.6272126 , -0.5819403 ],\n",
              "       [-0.5574256 ,  0.58276266, -0.601913  , ..., -0.46426016,\n",
              "         0.6376938 , -0.5828674 ],\n",
              "       [-0.55511045,  0.5879679 , -0.6115303 , ..., -0.45868003,\n",
              "         0.62384325, -0.5893937 ]], dtype=float32)"
            ]
          },
          "metadata": {
            "tags": []
          },
          "execution_count": 38
        }
      ]
    },
    {
      "cell_type": "code",
      "metadata": {
        "id": "wf6l_wi-rQHF"
      },
      "source": [
        "import io\n",
        "out_v = io.open('vecs.tsv', 'w', encoding='utf-8')\n",
        "out_m = io.open('meta.tsv', 'w', encoding='utf-8')\n",
        "#weights =model.layers[4].get_weights()[0]\n",
        "#weights = features_embedding_layer.get_weights()[0][1:]\n",
        "weights = dense_output.get_weights()[0].transpose()\n",
        "\n",
        "\n",
        "for num, word in enumerate(post2post_encoded):\n",
        "  vec = weights[num+1] # skip 0, it's padding.\n",
        "  out_m.write(str(word) + \"\\n\")\n",
        "  out_v.write('\\t'.join([str(x) for x in vec]) + \"\\n\")\n",
        "out_v.close()\n",
        "out_m.close()"
      ],
      "execution_count": null,
      "outputs": []
    },
    {
      "cell_type": "code",
      "metadata": {
        "colab": {
          "base_uri": "https://localhost:8080/"
        },
        "id": "L1Ekep7ZuYC2",
        "outputId": "725b9bc9-4cd1-436c-cff8-a1761ac336cd"
      },
      "source": [
        "weights.shape"
      ],
      "execution_count": null,
      "outputs": [
        {
          "output_type": "execute_result",
          "data": {
            "text/plain": [
              "(53959, 16)"
            ]
          },
          "metadata": {
            "tags": []
          },
          "execution_count": 41
        }
      ]
    },
    {
      "cell_type": "code",
      "metadata": {
        "id": "StiCsqfBvTtW",
        "colab": {
          "base_uri": "https://localhost:8080/"
        },
        "outputId": "f359887c-8a56-4b09-a4e3-497a01c8a99d"
      },
      "source": [
        "len(list(user2user_encoded))"
      ],
      "execution_count": null,
      "outputs": [
        {
          "output_type": "execute_result",
          "data": {
            "text/plain": [
              "115191"
            ]
          },
          "metadata": {
            "tags": []
          },
          "execution_count": 36
        }
      ]
    }
  ]
}